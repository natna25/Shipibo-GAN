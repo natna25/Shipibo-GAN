{
 "cells": [
  {
   "cell_type": "markdown",
   "metadata": {},
   "source": [
    "## Experimenting with various image augmentations technique on the shipibo art dataset\n",
    "\n",
    "This notebook contains a series of experiments on various data augmentation techniques that will be used to generate realistic images of art from the shpibo connibo tribe using Generative Adversarial Networks (GANs).\n",
    "\n",
    "Image augmentation is a data manipulation technique that is commonly used with images in order to provide a larger and more general dataset for training neural networks and other machine learning algorithms. It can also be a useful techniques when the quantity of data is small. \n",
    "\n",
    "\n",
    "### considerations of the original images\n",
    "With this dataset unfortunately, I will not be able to apply every data augmentation technique in the book as I wish to preserve some original aspects of the shipibo art. Indeed, this art is highly geometric and 'fractalic' in nature meaning that certain images transformations would lead to a certain decrease in generated image quality. However, I will have to make some sacrifices as I was only able to scrap a small dataset containing images of moderate quality. Image augmentation will help me improve the overal image quantity but has the downside of decreasing the end quality.\n",
    "\n"
   ]
  },
  {
   "cell_type": "code",
   "execution_count": null,
   "metadata": {},
   "outputs": [],
   "source": []
  }
 ],
 "metadata": {
  "kernelspec": {
   "display_name": "Python 3",
   "language": "python",
   "name": "python3"
  },
  "language_info": {
   "codemirror_mode": {
    "name": "ipython",
    "version": 3
   },
   "file_extension": ".py",
   "mimetype": "text/x-python",
   "name": "python",
   "nbconvert_exporter": "python",
   "pygments_lexer": "ipython3",
   "version": "3.6.8"
  }
 },
 "nbformat": 4,
 "nbformat_minor": 2
}
